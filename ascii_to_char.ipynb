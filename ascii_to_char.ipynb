{
  "nbformat": 4,
  "nbformat_minor": 0,
  "metadata": {
    "colab": {
      "name": "ascii_to_char.ipynb",
      "provenance": [],
      "authorship_tag": "ABX9TyPjnUtzJmWmRuNQsfs272M2",
      "include_colab_link": true
    },
    "kernelspec": {
      "name": "python3",
      "display_name": "Python 3"
    },
    "language_info": {
      "name": "python"
    }
  },
  "cells": [
    {
      "cell_type": "markdown",
      "metadata": {
        "id": "view-in-github",
        "colab_type": "text"
      },
      "source": [
        "<a href=\"https://colab.research.google.com/github/fatihdursunfd/pyhton_examples/blob/fd/ascii_to_char.ipynb\" target=\"_parent\"><img src=\"https://colab.research.google.com/assets/colab-badge.svg\" alt=\"Open In Colab\"/></a>"
      ]
    },
    {
      "cell_type": "code",
      "metadata": {
        "id": "My-ku4YO3NLl"
      },
      "source": [
        "ascii = ['1101000','1100101','1101100','1101100','1101111','100000','1100010','1101001','1101110',\n",
        "         '1100001','1110010','1111001','100000','1110111','1101111','1110010','1101100','1100100']"
      ],
      "execution_count": 3,
      "outputs": []
    },
    {
      "cell_type": "code",
      "metadata": {
        "colab": {
          "base_uri": "https://localhost:8080/"
        },
        "id": "X7nUPk7n3xmu",
        "outputId": "149efdc9-f41f-4299-ceb1-986d2ad262d6"
      },
      "source": [
        "chars = [chr(int(i,2)) for i in ascii]\n",
        "\n",
        "print(chars)"
      ],
      "execution_count": 5,
      "outputs": [
        {
          "output_type": "stream",
          "text": [
            "['h', 'e', 'l', 'l', 'o', ' ', 'b', 'i', 'n', 'a', 'r', 'y', ' ', 'w', 'o', 'r', 'l', 'd']\n"
          ],
          "name": "stdout"
        }
      ]
    }
  ]
}