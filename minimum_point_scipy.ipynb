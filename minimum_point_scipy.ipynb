{
  "nbformat": 4,
  "nbformat_minor": 0,
  "metadata": {
    "colab": {
      "name": "minimum_point_scipy.ipynb",
      "provenance": [],
      "authorship_tag": "ABX9TyPOI+AO9GucYS/nxH5yKK5k",
      "include_colab_link": true
    },
    "kernelspec": {
      "name": "python3",
      "display_name": "Python 3"
    },
    "language_info": {
      "name": "python"
    }
  },
  "cells": [
    {
      "cell_type": "markdown",
      "metadata": {
        "id": "view-in-github",
        "colab_type": "text"
      },
      "source": [
        "<a href=\"https://colab.research.google.com/github/fatihdursunfd/pyhton_examples/blob/fd/minimum_point_scipy.ipynb\" target=\"_parent\"><img src=\"https://colab.research.google.com/assets/colab-badge.svg\" alt=\"Open In Colab\"/></a>"
      ]
    },
    {
      "cell_type": "code",
      "metadata": {
        "id": "hJW7shbhtB_o"
      },
      "source": [
        "import numpy\n",
        "import pylab\n",
        "from scipy.optimize import fmin"
      ],
      "execution_count": 2,
      "outputs": []
    },
    {
      "cell_type": "code",
      "metadata": {
        "id": "1c5meAk2tSJR"
      },
      "source": [
        "rsinc = lambda x: (4 - (1 - (0.5 * x + 3 ) ** 2 ) )"
      ],
      "execution_count": 4,
      "outputs": []
    },
    {
      "cell_type": "code",
      "metadata": {
        "colab": {
          "base_uri": "https://localhost:8080/",
          "height": 282
        },
        "id": "gBHSVoDftYZQ",
        "outputId": "a2630867-5590-4c67-8bba-3c73d7adfcaa"
      },
      "source": [
        "# plot the function\n",
        "x = numpy.linspace(-25,25,200)\n",
        "y = rsinc(x)\n",
        "pylab.plot(x,y)"
      ],
      "execution_count": 7,
      "outputs": [
        {
          "output_type": "execute_result",
          "data": {
            "text/plain": [
              "[<matplotlib.lines.Line2D at 0x7f140b546210>]"
            ]
          },
          "metadata": {
            "tags": []
          },
          "execution_count": 7
        },
        {
          "output_type": "display_data",
          "data": {
            "image/png": "[encoded data removed]",
            "text/plain": [
              "<Figure size 432x288 with 1 Axes>"
            ]
          },
          "metadata": {
            "tags": [],
            "needs_background": "light"
          }
        }
      ]
    },
    {
      "cell_type": "code",
      "metadata": {
        "colab": {
          "base_uri": "https://localhost:8080/"
        },
        "id": "agfOVAibtERO",
        "outputId": "47f69ab9-daf0-4655-c974-e0ec78fc5035"
      },
      "source": [
        "x0 = 10 \n",
        "xmin0 = fmin(rsinc,x0)"
      ],
      "execution_count": 9,
      "outputs": [
        {
          "output_type": "stream",
          "text": [
            "Optimization terminated successfully.\n",
            "         Current function value: 3.000000\n",
            "         Iterations: 22\n",
            "         Function evaluations: 44\n"
          ],
          "name": "stdout"
        }
      ]
    },
    {
      "cell_type": "code",
      "metadata": {
        "colab": {
          "base_uri": "https://localhost:8080/"
        },
        "id": "4yZlMx2RtK4F",
        "outputId": "a000b14d-b2a9-4573-e789-29eec68de1ea"
      },
      "source": [
        "x1 = -10 \n",
        "xmin1 = fmin(rsinc,x1)"
      ],
      "execution_count": 10,
      "outputs": [
        {
          "output_type": "stream",
          "text": [
            "Optimization terminated successfully.\n",
            "         Current function value: 3.000000\n",
            "         Iterations: 18\n",
            "         Function evaluations: 36\n"
          ],
          "name": "stdout"
        }
      ]
    }
  ]
}