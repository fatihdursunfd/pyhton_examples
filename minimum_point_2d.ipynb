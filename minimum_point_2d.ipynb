{
  "nbformat": 4,
  "nbformat_minor": 0,
  "metadata": {
    "colab": {
      "name": "minimum_point_2d.ipynb",
      "provenance": [],
      "authorship_tag": "ABX9TyNSBQqqLdHmT3lAMViwZiB7",
      "include_colab_link": true
    },
    "kernelspec": {
      "name": "python3",
      "display_name": "Python 3"
    },
    "language_info": {
      "name": "python"
    }
  },
  "cells": [
    {
      "cell_type": "markdown",
      "metadata": {
        "id": "view-in-github",
        "colab_type": "text"
      },
      "source": [
        "<a href=\"https://colab.research.google.com/github/fatihdursunfd/pyhton_examples/blob/fd/minimum_point_2d.ipynb\" target=\"_parent\"><img src=\"https://colab.research.google.com/assets/colab-badge.svg\" alt=\"Open In Colab\"/></a>"
      ]
    },
    {
      "cell_type": "code",
      "metadata": {
        "id": "riY8AAT6o6cG"
      },
      "source": [
        "import numpy as np\n",
        "import matplotlib.pyplot as plt\n",
        "import sys"
      ],
      "execution_count": 1,
      "outputs": []
    },
    {
      "cell_type": "code",
      "metadata": {
        "id": "k9HpJeHdo8w6"
      },
      "source": [
        "def f(x):\n",
        "    #return (4 - (1 - (0.5 * x + 3 ) ** 2 ) )\n",
        "    return x**2 - 4 * x + 1"
      ],
      "execution_count": 10,
      "outputs": []
    },
    {
      "cell_type": "code",
      "metadata": {
        "id": "He-OE8LrpV_5"
      },
      "source": [
        "xleft = -30\n",
        "xright = 30\n",
        "\n",
        "vec = np.arange(xleft,xright,0.5)\n",
        "\n",
        "y_min = sys.float_info.max\n",
        "x_min = -30"
      ],
      "execution_count": 11,
      "outputs": []
    },
    {
      "cell_type": "code",
      "metadata": {
        "id": "vI9aknUGpcG3"
      },
      "source": [
        "for i in vec:\n",
        "    y = f(i)\n",
        "    if y < y_min :\n",
        "        x_min = i\n",
        "        y_min = y"
      ],
      "execution_count": 12,
      "outputs": []
    },
    {
      "cell_type": "code",
      "metadata": {
        "colab": {
          "base_uri": "https://localhost:8080/",
          "height": 265
        },
        "id": "J9JjicbvpfWv",
        "outputId": "b511a0f6-e085-407b-9d1e-77462e738f51"
      },
      "source": [
        "plt.scatter(vec,f(vec))\n",
        "plt.scatter(x_min,y_min,c=\"r\")\n",
        "plt.show()"
      ],
      "execution_count": 13,
      "outputs": [
        {
          "output_type": "display_data",
          "data": {
            "image/png": "[encoded data removed]",
            "text/plain": [
              "<Figure size 432x288 with 1 Axes>"
            ]
          },
          "metadata": {
            "tags": [],
            "needs_background": "light"
          }
        }
      ]
    }
  ]
}