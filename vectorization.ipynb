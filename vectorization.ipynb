{
  "nbformat": 4,
  "nbformat_minor": 0,
  "metadata": {
    "colab": {
      "name": "vectorization.ipynb",
      "provenance": [],
      "authorship_tag": "ABX9TyPrGIdWZQoYphRn9ALbAaxR",
      "include_colab_link": true
    },
    "kernelspec": {
      "name": "python3",
      "display_name": "Python 3"
    }
  },
  "cells": [
    {
      "cell_type": "markdown",
      "metadata": {
        "id": "view-in-github",
        "colab_type": "text"
      },
      "source": [
        "<a href=\"https://colab.research.google.com/github/fatihdursunfd/pyhton_examples/blob/fd/vectorization.ipynb\" target=\"_parent\"><img src=\"https://colab.research.google.com/assets/colab-badge.svg\" alt=\"Open In Colab\"/></a>"
      ]
    },
    {
      "cell_type": "code",
      "metadata": {
        "id": "ysBOEyQGvgiR",
        "colab": {
          "base_uri": "https://localhost:8080/"
        },
        "outputId": "7d720bfd-fbeb-4805-ae9d-73fbb16e3b15"
      },
      "source": [
        "import numpy as np \n",
        "import time \n",
        "\n",
        "i = 1000000\n",
        "a = np.random.rand(i)\n",
        "b = np.random.rand(i)\n",
        "\n",
        "tic = time.time()\n",
        "c = np.dot(a,b)\n",
        "toc = time.time()\n",
        "\n",
        "print(\"c : \",c)\n",
        "print(\"vectorization version takes\",1000*(toc-tic) ,\"ms\")\n",
        "\n",
        "tic = time.time()\n",
        "c = 0\n",
        "\n",
        "for j in range(i):\n",
        "  c += a[j] * b[j]\n",
        "\n",
        "toc = time.time()\n",
        "print(\"c : \",c)\n",
        "print(\"non-vectorization version takes\",1000*(toc-tic) ,\"ms\")\n",
        "\n"
      ],
      "execution_count": 1,
      "outputs": [
        {
          "output_type": "stream",
          "text": [
            "c :  250086.83652431154\n",
            "vectorization version takes 2.1293163299560547 ms\n",
            "c :  250086.83652431346\n",
            "non-vectorization version takes 723.2542037963867 ms\n"
          ],
          "name": "stdout"
        }
      ]
    }
  ]
}