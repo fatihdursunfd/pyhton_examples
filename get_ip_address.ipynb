{
  "nbformat": 4,
  "nbformat_minor": 0,
  "metadata": {
    "colab": {
      "name": "get_ip_address.ipynb",
      "provenance": [],
      "authorship_tag": "ABX9TyMTF2cevLBN++4LpgtYKKED",
      "include_colab_link": true
    },
    "kernelspec": {
      "name": "python3",
      "display_name": "Python 3"
    },
    "language_info": {
      "name": "python"
    }
  },
  "cells": [
    {
      "cell_type": "markdown",
      "metadata": {
        "id": "view-in-github",
        "colab_type": "text"
      },
      "source": [
        "<a href=\"https://colab.research.google.com/github/fatihdursunfd/pyhton_examples/blob/fd/get_ip_address.ipynb\" target=\"_parent\"><img src=\"https://colab.research.google.com/assets/colab-badge.svg\" alt=\"Open In Colab\"/></a>"
      ]
    },
    {
      "cell_type": "code",
      "metadata": {
        "id": "EL-k2YNu4gGD"
      },
      "source": [
        "import socket"
      ],
      "execution_count": 1,
      "outputs": []
    },
    {
      "cell_type": "code",
      "metadata": {
        "colab": {
          "base_uri": "https://localhost:8080/"
        },
        "id": "maLHGAw84hrA",
        "outputId": "9f09299a-eedb-444a-e338-28d79f231c88"
      },
      "source": [
        "hostname = socket.gethostname()\n",
        "ipaddress = socket.gethostbyname(hostname)\n",
        "\n",
        "print(\"hostname : \",hostname)\n",
        "print(\"ip address : \",ipaddress)"
      ],
      "execution_count": 2,
      "outputs": [
        {
          "output_type": "stream",
          "text": [
            "hostname :  6c301425f536\n",
            "ip address :  172.28.0.2\n"
          ],
          "name": "stdout"
        }
      ]
    }
  ]
}