{
  "nbformat": 4,
  "nbformat_minor": 0,
  "metadata": {
    "colab": {
      "name": "hanoi.ipynb",
      "provenance": [],
      "authorship_tag": "ABX9TyOAIuWUIM074SrhEAyGjMJY",
      "include_colab_link": true
    },
    "kernelspec": {
      "name": "python3",
      "display_name": "Python 3"
    }
  },
  "cells": [
    {
      "cell_type": "markdown",
      "metadata": {
        "id": "view-in-github",
        "colab_type": "text"
      },
      "source": [
        "<a href=\"https://colab.research.google.com/github/fatihdursunfd/pyhton_examples/blob/fd/hanoi.ipynb\" target=\"_parent\"><img src=\"https://colab.research.google.com/assets/colab-badge.svg\" alt=\"Open In Colab\"/></a>"
      ]
    },
    {
      "cell_type": "code",
      "metadata": {
        "colab": {
          "base_uri": "https://localhost:8080/"
        },
        "id": "QG6D-sYxYZdU",
        "outputId": "41e47f14-c943-4878-8bb8-52fb5173d2ed"
      },
      "source": [
        "def hanoi(n,x,y,z):\n",
        "  if n == 1 :\n",
        "    print(x,z)\n",
        "\n",
        "  else:\n",
        "    hanoi(n-1,x,z,y)\n",
        "    hanoi(1,x,y,z)\n",
        "    hanoi(n-1,y,x,z)\n",
        "\n",
        "hanoi(3,\"x\",\"y\",\"z\")"
      ],
      "execution_count": 1,
      "outputs": [
        {
          "output_type": "stream",
          "text": [
            "x z\n",
            "x y\n",
            "z y\n",
            "x z\n",
            "y x\n",
            "y z\n",
            "x z\n"
          ],
          "name": "stdout"
        }
      ]
    }
  ]
}