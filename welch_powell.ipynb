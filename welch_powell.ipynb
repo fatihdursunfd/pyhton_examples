{
  "nbformat": 4,
  "nbformat_minor": 0,
  "metadata": {
    "colab": {
      "name": "welch_powell.ipynb",
      "provenance": [],
      "collapsed_sections": [],
      "authorship_tag": "ABX9TyNqSNzCTaMxvzFHeCgMac3k",
      "include_colab_link": true
    },
    "kernelspec": {
      "name": "python3",
      "display_name": "Python 3"
    }
  },
  "cells": [
    {
      "cell_type": "markdown",
      "metadata": {
        "id": "view-in-github",
        "colab_type": "text"
      },
      "source": [
        "<a href=\"https://colab.research.google.com/github/fatihdursunfd/pyhton_examples/blob/fd/welch_powell.ipynb\" target=\"_parent\"><img src=\"https://colab.research.google.com/assets/colab-badge.svg\" alt=\"Open In Colab\"/></a>"
      ]
    },
    {
      "cell_type": "code",
      "metadata": {
        "id": "9Jsgud0crtXX"
      },
      "source": [
        "import sys"
      ],
      "execution_count": null,
      "outputs": []
    },
    {
      "cell_type": "code",
      "metadata": {
        "id": "8GGJhhvTDv8w"
      },
      "source": [
        "class graph():\n",
        "    \n",
        "    vertexs = []\n",
        "    edges = []\n",
        "    degrees = []\n",
        "    prev = []\n",
        "    colors = {}\n",
        "    number_of_vertexs = 0\n",
        "    D = [[]]\n",
        "    Z = [[]]\n",
        "    def add_vertexs(self,vertex):\n",
        "      self.vertexs = vertex\n",
        "      self.number_of_vertexs = len(self.vertexs)\n",
        "      self.D = [[0 for x in range(0,self.number_of_vertexs)] for x in range(0,self.number_of_vertexs) ]\n",
        "\n",
        "    def return_index(self,v):\n",
        "      for i in range(0,self.number_of_vertexs):\n",
        "        if(self.vertexs[i] == v):\n",
        "          return i \n",
        "\n",
        "    def add_edges(self,v1,v2,weight,bidirectional):\n",
        "      self.D[self.return_index(v1)][self.return_index(v2)] = weight\n",
        "      self.edges.append(v1+v2)\n",
        "      if(bidirectional):\n",
        "        self.D[self.return_index(v2)][self.return_index(v1)] = weight\n",
        "        self.edges.append(v2+v1)\n",
        "\n",
        "    def set_vertex_degree(self):\n",
        "      self.degrees = [0 for x in range(0,self.number_of_vertexs)] \n",
        "      for i in range(0,self.number_of_vertexs):\n",
        "        for j in range(0,self.number_of_vertexs):\n",
        "            if(self.D[i][j] != 0 or self.D[j][i] != 0 ):\n",
        "              self.degrees[i] = self.degrees[i] + 1\n",
        "\n",
        "    def print_relation_matrice(self):\n",
        "        print('\\n'.join(map(str, self.D)))\n",
        "\n",
        "\n",
        "    def welch_powell(self):\n",
        "      \n",
        "      self.set_vertex_degree()\n",
        "\n",
        "      Degrees = self.degrees.copy()\n",
        "      Vertexs = self.vertexs.copy()\n",
        "      Colors = [\"blue\",\"red\",\"yellow\",\"green\",\"pink\",\"black\",\"white\",\"purple\",\"orange\"]\n",
        "      counter = 0\n",
        "\n",
        "      length = len(Degrees)\n",
        "      for i in range(0,length):\n",
        "        for j in range(i,length):\n",
        "            if( Degrees[i] < Degrees[j] ):\n",
        "                Degrees[i] , Degrees[j] = Degrees[j] ,Degrees[i]\n",
        "                Vertexs[i] , Vertexs[j] = Vertexs[j] ,Vertexs[i]\n",
        "\n",
        "      while (len(self.colors) < self.number_of_vertexs):\n",
        "\n",
        "\n",
        "        max_degree = max(Degrees)\n",
        "        j = Degrees.index(max_degree)\n",
        "        self.colors[Vertexs[j]] = Colors[counter]\n",
        " \n",
        "        for i in range(self.number_of_vertexs):\n",
        "            if(Vertexs[j] == self.vertexs[i]):\n",
        "              index = i\n",
        "\n",
        "        v = Vertexs[j]\n",
        "        Degrees.remove(max_degree)\n",
        "        Vertexs.remove(Vertexs[j]) \n",
        "        \n",
        "        i=0\n",
        "\n",
        "        while i < len(Vertexs)  :\n",
        "\n",
        "            #find the real index\n",
        "            for x in range(self.number_of_vertexs):\n",
        "              if(Vertexs[i] == self.vertexs[x]):\n",
        "                index2 = x\n",
        "\n",
        "            #komşu degilse\n",
        "            if (self.D[index][index2] == 0 and self.D[index2][index] == 0 and index != index2 ) :\n",
        "                control = True\n",
        "                for k in range(self.number_of_vertexs):\n",
        "                    if k != index2 :\n",
        "                      if (self.D[index2][k] != 0 or self.D[index2][k] != 0):\n",
        "                        if self.vertexs[k] in self.colors :\n",
        "                          if self.colors[self.vertexs[k]] == Colors[counter]:\n",
        "                            control = False\n",
        "                if control == True :\n",
        "                  self.colors[self.vertexs[index2]] = Colors[counter]\n",
        "                  Vertexs.pop(i)\n",
        "                  Degrees.pop(i)\n",
        "\n",
        "\n",
        "            i = i + 1\n",
        "        counter = counter + 1\n",
        "      \n",
        "      print(self.colors)\n",
        "\n",
        "    def get_min(self , i) :\n",
        "      min = self.Z[1][i]\n",
        "      index = 0\n",
        "      for x in range(1,self.number_of_vertexs) :\n",
        "          if self.Z[x][i] < min :\n",
        "            min = self.Z[x][i]\n",
        "            index = x\n",
        "      return index\n",
        "\n",
        "    def get_index(self , n1) :\n",
        "      for x in range(0,self.number_of_vertexs) :\n",
        "        if n1 == self.vertexs[x] :\n",
        "          return x\n",
        "\n",
        "    def get_distances(self , i1 , n2 , j , i , init):\n",
        "\n",
        "      i2 = self.get_index(n2)\n",
        "\n",
        "      if self.D[i1][i2] == 0 and self.Z[j][i-1] == -1 :\n",
        "        #self.Z[j][i] = sys.maxsize\n",
        "        self.Z[j][i] = 20\n",
        "      else :\n",
        "        if init + self.D[i1][i2] < self.Z[j][i] :\n",
        "          self.Z[j][i] = init + self.D[i1][i2]\n",
        "          self.prev[i2] = self.vertexs[i1]\n",
        "        \n",
        "          \n",
        "\n",
        "\n"
      ],
      "execution_count": null,
      "outputs": []
    },
    {
      "cell_type": "code",
      "metadata": {
        "id": "BaAuvIOlaxY9",
        "colab": {
          "base_uri": "https://localhost:8080/"
        },
        "outputId": "8b86aea7-9d6d-449f-9f66-66cb5f67dbb9"
      },
      "source": [
        "vertex= [\"a\",\"b\",\"c\",\"d\",\"e\",\"f\",\"g\",\"h\"]\n",
        "graph1 = graph()\n",
        "graph1.add_vertexs(vertex)\n",
        "graph1.add_edges(\"a\",\"b\",15,True)\n",
        "graph1.add_edges(\"a\",\"c\",3,True)\n",
        "graph1.add_edges(\"a\",\"d\",8,True)\n",
        "graph1.add_edges(\"b\",\"d\",11,True)\n",
        "graph1.add_edges(\"c\",\"d\",9,True)\n",
        "graph1.add_edges(\"c\",\"f\",4,True)\n",
        "graph1.add_edges(\"d\",\"e\",10,True)\n",
        "graph1.add_edges(\"d\",\"f\",5,True)\n",
        "graph1.add_edges(\"e\",\"g\",5,True)\n",
        "graph1.add_edges(\"f\",\"g\",5,True)\n",
        "graph1.add_edges(\"f\",\"h\",6,True)\n",
        "graph1.add_edges(\"g\",\"h\",3,True)\n",
        "\n",
        "graph1.welch_powell()\n"
      ],
      "execution_count": null,
      "outputs": [
        {
          "output_type": "stream",
          "text": [
            "{'d': 'blue', 'g': 'blue', 'f': 'red', 'a': 'red', 'e': 'red', 'c': 'yellow', 'b': 'yellow', 'h': 'green'}\n"
          ],
          "name": "stdout"
        }
      ]
    },
    {
      "cell_type": "code",
      "metadata": {
        "id": "ec5z3gOo6-3z",
        "colab": {
          "base_uri": "https://localhost:8080/"
        },
        "outputId": "f67e68cb-a1b9-4b3f-8693-4cbf45274005"
      },
      "source": [
        "vertex= [\"a\",\"b\",\"c\",\"d\",\"e\",\"f\",\"g\",\"h\",\"i\"]\n",
        "graph1 = graph()\n",
        "graph1.add_vertexs(vertex)\n",
        "graph1.add_edges(\"a\",\"b\",3,False)\n",
        "graph1.add_edges(\"a\",\"c\",3,False)\n",
        "graph1.add_edges(\"a\",\"d\",3,False)\n",
        "graph1.add_edges(\"a\",\"e\",3,False)\n",
        "graph1.add_edges(\"a\",\"f\",3,False)\n",
        "graph1.add_edges(\"a\",\"g\",5,False)\n",
        "graph1.add_edges(\"b\",\"d\",5,False)\n",
        "graph1.add_edges(\"b\",\"g\",5,False)\n",
        "graph1.add_edges(\"c\",\"e\",5,False)\n",
        "graph1.add_edges(\"c\",\"g\",5,False)\n",
        "graph1.add_edges(\"d\",\"f\",2,False)\n",
        "graph1.add_edges(\"e\",\"f\",2,False)\n",
        "graph1.add_edges(\"d\",\"e\",6,False)\n",
        "graph1.add_edges(\"e\",\"i\",10,False)\n",
        "graph1.add_edges(\"g\",\"h\",1,False)\n",
        "graph1.add_edges(\"h\",\"i\",1,False)\n",
        "\n",
        "graph1.welch_powell()\n"
      ],
      "execution_count": null,
      "outputs": [
        {
          "output_type": "stream",
          "text": [
            "{'d': 'yellow', 'g': 'red', 'f': 'red', 'a': 'blue', 'e': 'red', 'c': 'yellow', 'b': 'yellow', 'h': 'blue', 'i': 'yellow'}\n"
          ],
          "name": "stdout"
        }
      ]
    },
    {
      "cell_type": "code",
      "metadata": {
        "id": "aXgo14pITwK4"
      },
      "source": [
        ""
      ],
      "execution_count": null,
      "outputs": []
    }
  ]
}